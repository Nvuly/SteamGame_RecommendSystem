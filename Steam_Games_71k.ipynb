{
 "cells": [
  {
   "cell_type": "markdown",
   "metadata": {},
   "source": [
    "# Objective\n",
    "- 게임설명이 비슷한 게임들을 추천하는 시스템 제작"
   ]
  },
  {
   "cell_type": "markdown",
   "metadata": {},
   "source": [
    "### Data Load"
   ]
  },
  {
   "cell_type": "code",
   "execution_count": 2,
   "metadata": {},
   "outputs": [
    {
     "name": "stdout",
     "output_type": "stream",
     "text": [
      "WARNING:tensorflow:From c:\\Users\\human\\anaconda3\\Lib\\site-packages\\keras\\src\\losses.py:2976: The name tf.losses.sparse_softmax_cross_entropy is deprecated. Please use tf.compat.v1.losses.sparse_softmax_cross_entropy instead.\n",
      "\n"
     ]
    }
   ],
   "source": [
    "import numpy as np\n",
    "import pandas as pd\n",
    "import requests\n",
    "from bs4 import BeautifulSoup\n",
    "import matplotlib.pyplot as plt\n",
    "import seaborn as sns\n",
    "from sklearn.model_selection import GridSearchCV\n",
    "from sklearn.model_selection import train_test_split\n",
    "from sklearn.metrics import accuracy_score, f1_score, precision_score, recall_score\n",
    "from sklearn.tree import DecisionTreeClassifier\n",
    "\n",
    "\n",
    "import tensorflow as tf\n",
    "from sklearn.metrics.pairwise import linear_kernel\n",
    "from sentence_transformers import SentenceTransformer"
   ]
  },
  {
   "cell_type": "markdown",
   "metadata": {},
   "source": [
    "- Sentence-BERT 모델은 BERT를 기반으로 sentence embedding vector를 생성하는 모델.\n",
    "\tBERT 모델은 문장 내 모든 단어들을 참고한 문맥을 가진 임베딩 벡터를 만드는 모델이며 문장의 의미를 추출하는데 강점임."
   ]
  },
  {
   "cell_type": "code",
   "execution_count": 3,
   "metadata": {},
   "outputs": [
    {
     "data": {
      "text/plain": [
       "'\\n\\nSentenceTransformer는 HuggingFace 라이브러리, 모델을 다운받아 사용하기 위한 라이브러리임.\\nlinear_kernel는 여러 문장과 문장 사이의 코사인 유사도를 측정할 때 사용하는 라이브러리임.\\n\\n'"
      ]
     },
     "execution_count": 3,
     "metadata": {},
     "output_type": "execute_result"
    }
   ],
   "source": [
    "# 라이브러리\n",
    "'''\n",
    "\n",
    "SentenceTransformer는 HuggingFace 라이브러리, 모델을 다운받아 사용하기 위한 라이브러리임.\n",
    "linear_kernel는 여러 문장과 문장 사이의 코사인 유사도를 측정할 때 사용하는 라이브러리임.\n",
    "\n",
    "'''\n",
    "\n"
   ]
  },
  {
   "cell_type": "code",
   "execution_count": 4,
   "metadata": {},
   "outputs": [
    {
     "name": "stdout",
     "output_type": "stream",
     "text": [
      "         AppID                                    Name  Release date  \\\n",
      "0        20200                        Galactic Bowling  Oct 21, 2008   \n",
      "1       655370                            Train Bandit  Oct 12, 2017   \n",
      "2      1732930                            Jolt Project  Nov 17, 2021   \n",
      "3      1355720                                Henosis™  Jul 23, 2020   \n",
      "4      1139950                   Two Weeks in Painland   Feb 3, 2020   \n",
      "...        ...                                     ...           ...   \n",
      "71711  2159120                                    SUR5   Apr 1, 2023   \n",
      "71712  2125160                           Prison Life 2  Mar 30, 2023   \n",
      "71713  2318860                  Architecture Zeitgeist  Mar 27, 2023   \n",
      "71714  2180330  Girl's Way to Survive 2: Bloody Museum   Apr 2, 2023   \n",
      "71715  2352890                            Hentai Ariel  Mar 30, 2023   \n",
      "\n",
      "      Estimated owners  Peak CCU  Required age  Price  DLC count  \\\n",
      "0            0 - 20000         0             0  19.99          0   \n",
      "1            0 - 20000         0             0   0.99          0   \n",
      "2            0 - 20000         0             0   4.99          0   \n",
      "3            0 - 20000         0             0   5.99          0   \n",
      "4            0 - 20000         0             0   0.00          0   \n",
      "...                ...       ...           ...    ...        ...   \n",
      "71711            0 - 0         0             0   0.00          0   \n",
      "71712        0 - 20000         6             0  10.79          0   \n",
      "71713        0 - 20000         0             0   5.99          0   \n",
      "71714            0 - 0         0             0   2.39          0   \n",
      "71715        0 - 20000         1             0   0.74          0   \n",
      "\n",
      "                                          About the game  \\\n",
      "0      Galactic Bowling is an exaggerated and stylize...   \n",
      "1      THE LAW!! Looks to be a showdown atop a train....   \n",
      "2      Jolt Project: The army now has a new robotics ...   \n",
      "3      HENOSIS™ is a mysterious 2D Platform Puzzler w...   \n",
      "4      ABOUT THE GAME Play as a hacker who has arrang...   \n",
      "...                                                  ...   \n",
      "71711  Innovative Gameplay SUR5 brings a brand new, f...   \n",
      "71712  Core Features Real players only! All Guards an...   \n",
      "71713  Architecture Zeitgeist is a game created with ...   \n",
      "71714  Development progress: prologue map (finished),...   \n",
      "71715  'Hentai Ariel' is a unique puzzle in which the...   \n",
      "\n",
      "                                     Supported languages  ...  \\\n",
      "0                                            ['English']  ...   \n",
      "1      ['English', 'French', 'Italian', 'German', 'Sp...  ...   \n",
      "2                     ['English', 'Portuguese - Brazil']  ...   \n",
      "3      ['English', 'French', 'Italian', 'German', 'Sp...  ...   \n",
      "4                         ['English', 'Spanish - Spain']  ...   \n",
      "...                                                  ...  ...   \n",
      "71711   ['English', 'Polish', 'Spanish - Latin America']  ...   \n",
      "71712  ['English', 'French', 'Italian', 'German', 'Sp...  ...   \n",
      "71713  ['English', 'Japanese', 'Portuguese - Brazil',...  ...   \n",
      "71714                             ['Simplified Chinese']  ...   \n",
      "71715  ['English', 'French', 'Italian', 'German', 'Sp...  ...   \n",
      "\n",
      "      Average playtime two weeks Median playtime forever  \\\n",
      "0                              0                       0   \n",
      "1                              0                       0   \n",
      "2                              0                       0   \n",
      "3                              0                       0   \n",
      "4                              0                       0   \n",
      "...                          ...                     ...   \n",
      "71711                          0                       0   \n",
      "71712                          0                       0   \n",
      "71713                          0                       0   \n",
      "71714                          0                       0   \n",
      "71715                          0                       0   \n",
      "\n",
      "      Median playtime two weeks             Developers             Publishers  \\\n",
      "0                             0  Perpetual FX Creative  Perpetual FX Creative   \n",
      "1                             0           Rusty Moyher           Wild Rooster   \n",
      "2                             0          Campião Games          Campião Games   \n",
      "3                             0      Odd Critter Games      Odd Critter Games   \n",
      "4                             0          Unusual Games          Unusual Games   \n",
      "...                         ...                    ...                    ...   \n",
      "71711                         0              Katharsis              Katharsis   \n",
      "71712                         0               AO Games               AO Games   \n",
      "71713                         0           Matheus Rudo           Rudo Studios   \n",
      "71714                         0                 绅士游戏工坊                 绅士游戏工坊   \n",
      "71715                         0             Cyber Keks             Cyber Keks   \n",
      "\n",
      "                                              Categories  \\\n",
      "0      Single-player,Multi-player,Steam Achievements,...   \n",
      "1      Single-player,Steam Achievements,Full controll...   \n",
      "2                                          Single-player   \n",
      "3                  Single-player,Full controller support   \n",
      "4                       Single-player,Steam Achievements   \n",
      "...                                                  ...   \n",
      "71711  Single-player,Multi-player,PvP,Online PvP,Stea...   \n",
      "71712  Single-player,Multi-player,PvP,Online PvP,Co-o...   \n",
      "71713                                      Single-player   \n",
      "71714                                      Single-player   \n",
      "71715                   Single-player,Steam Achievements   \n",
      "\n",
      "                                                  Genres  \\\n",
      "0                                    Casual,Indie,Sports   \n",
      "1                                           Action,Indie   \n",
      "2                        Action,Adventure,Indie,Strategy   \n",
      "3                                 Adventure,Casual,Indie   \n",
      "4                                        Adventure,Indie   \n",
      "...                                                  ...   \n",
      "71711  Free to Play,Indie,Massively Multiplayer,Strat...   \n",
      "71712               Casual,Indie,RPG,Simulation,Strategy   \n",
      "71713                     Casual,Simulation,Early Access   \n",
      "71714               Action,Casual,Indie,RPG,Early Access   \n",
      "71715                                       Casual,Indie   \n",
      "\n",
      "                                                    Tags  \\\n",
      "0                            Indie,Casual,Sports,Bowling   \n",
      "1      Indie,Action,Pixel Graphics,2D,Retro,Arcade,Sc...   \n",
      "2                                                    NaN   \n",
      "3      2D Platformer,Atmospheric,Surreal,Mystery,Puzz...   \n",
      "4      Indie,Adventure,Nudity,Violent,Sexual Content,...   \n",
      "...                                                  ...   \n",
      "71711                                                NaN   \n",
      "71712  First-Person,Detective,Social Deduction,Multip...   \n",
      "71713  Casual,Simulation,Puzzle,Exploration,Immersive...   \n",
      "71714                                                NaN   \n",
      "71715                                                NaN   \n",
      "\n",
      "                                             Screenshots  \\\n",
      "0      https://cdn.akamai.steamstatic.com/steam/apps/...   \n",
      "1      https://cdn.akamai.steamstatic.com/steam/apps/...   \n",
      "2      https://cdn.akamai.steamstatic.com/steam/apps/...   \n",
      "3      https://cdn.akamai.steamstatic.com/steam/apps/...   \n",
      "4      https://cdn.akamai.steamstatic.com/steam/apps/...   \n",
      "...                                                  ...   \n",
      "71711  https://cdn.akamai.steamstatic.com/steam/apps/...   \n",
      "71712  https://cdn.akamai.steamstatic.com/steam/apps/...   \n",
      "71713  https://cdn.akamai.steamstatic.com/steam/apps/...   \n",
      "71714  https://cdn.akamai.steamstatic.com/steam/apps/...   \n",
      "71715  https://cdn.akamai.steamstatic.com/steam/apps/...   \n",
      "\n",
      "                                                  Movies  \n",
      "0      http://cdn.akamai.steamstatic.com/steam/apps/2...  \n",
      "1      http://cdn.akamai.steamstatic.com/steam/apps/2...  \n",
      "2      http://cdn.akamai.steamstatic.com/steam/apps/2...  \n",
      "3      http://cdn.akamai.steamstatic.com/steam/apps/2...  \n",
      "4      http://cdn.akamai.steamstatic.com/steam/apps/2...  \n",
      "...                                                  ...  \n",
      "71711  http://cdn.akamai.steamstatic.com/steam/apps/2...  \n",
      "71712  http://cdn.akamai.steamstatic.com/steam/apps/2...  \n",
      "71713  http://cdn.akamai.steamstatic.com/steam/apps/2...  \n",
      "71714  http://cdn.akamai.steamstatic.com/steam/apps/2...  \n",
      "71715  http://cdn.akamai.steamstatic.com/steam/apps/2...  \n",
      "\n",
      "[71716 rows x 39 columns]\n"
     ]
    }
   ],
   "source": [
    "file_path = 'D:\\Code\\DataSets/games.csv'\n",
    "\n",
    "df = pd.read_csv(file_path)\n",
    "\n",
    "print(df)"
   ]
  },
  {
   "cell_type": "markdown",
   "metadata": {},
   "source": [
    "### Pre-processing"
   ]
  },
  {
   "cell_type": "code",
   "execution_count": 5,
   "metadata": {},
   "outputs": [
    {
     "name": "stdout",
     "output_type": "stream",
     "text": [
      "<class 'pandas.core.frame.DataFrame'>\n",
      "RangeIndex: 71716 entries, 0 to 71715\n",
      "Data columns (total 39 columns):\n",
      " #   Column                      Non-Null Count  Dtype  \n",
      "---  ------                      --------------  -----  \n",
      " 0   AppID                       71716 non-null  int64  \n",
      " 1   Name                        71715 non-null  object \n",
      " 2   Release date                71716 non-null  object \n",
      " 3   Estimated owners            71716 non-null  object \n",
      " 4   Peak CCU                    71716 non-null  int64  \n",
      " 5   Required age                71716 non-null  int64  \n",
      " 6   Price                       71716 non-null  float64\n",
      " 7   DLC count                   71716 non-null  int64  \n",
      " 8   About the game              69280 non-null  object \n",
      " 9   Supported languages         71716 non-null  object \n",
      " 10  Full audio languages        71716 non-null  object \n",
      " 11  Reviews                     9167 non-null   object \n",
      " 12  Header image                71716 non-null  object \n",
      " 13  Website                     35073 non-null  object \n",
      " 14  Support url                 36250 non-null  object \n",
      " 15  Support email               60596 non-null  object \n",
      " 16  Windows                     71716 non-null  bool   \n",
      " 17  Mac                         71716 non-null  bool   \n",
      " 18  Linux                       71716 non-null  bool   \n",
      " 19  Metacritic score            71716 non-null  int64  \n",
      " 20  Metacritic url              3778 non-null   object \n",
      " 21  User score                  71716 non-null  int64  \n",
      " 22  Positive                    71716 non-null  int64  \n",
      " 23  Negative                    71716 non-null  int64  \n",
      " 24  Score rank                  42 non-null     float64\n",
      " 25  Achievements                71716 non-null  int64  \n",
      " 26  Recommendations             71716 non-null  int64  \n",
      " 27  Notes                       10442 non-null  object \n",
      " 28  Average playtime forever    71716 non-null  int64  \n",
      " 29  Average playtime two weeks  71716 non-null  int64  \n",
      " 30  Median playtime forever     71716 non-null  int64  \n",
      " 31  Median playtime two weeks   71716 non-null  int64  \n",
      " 32  Developers                  69255 non-null  object \n",
      " 33  Publishers                  68996 non-null  object \n",
      " 34  Categories                  68309 non-null  object \n",
      " 35  Genres                      69277 non-null  object \n",
      " 36  Tags                        57702 non-null  object \n",
      " 37  Screenshots                 70387 non-null  object \n",
      " 38  Movies                      66668 non-null  object \n",
      "dtypes: bool(3), float64(2), int64(14), object(20)\n",
      "memory usage: 19.9+ MB\n"
     ]
    }
   ],
   "source": [
    "df.info()"
   ]
  },
  {
   "cell_type": "code",
   "execution_count": 6,
   "metadata": {},
   "outputs": [
    {
     "name": "stdout",
     "output_type": "stream",
     "text": [
      "                                         Name  \\\n",
      "0                            Galactic Bowling   \n",
      "1                                Train Bandit   \n",
      "2                                Jolt Project   \n",
      "3                                    Henosis™   \n",
      "4                       Two Weeks in Painland   \n",
      "...                                       ...   \n",
      "71711                                    SUR5   \n",
      "71712                           Prison Life 2   \n",
      "71713                  Architecture Zeitgeist   \n",
      "71714  Girl's Way to Survive 2: Bloody Museum   \n",
      "71715                            Hentai Ariel   \n",
      "\n",
      "                                          About the game  \n",
      "0      Galactic Bowling is an exaggerated and stylize...  \n",
      "1      THE LAW!! Looks to be a showdown atop a train....  \n",
      "2      Jolt Project: The army now has a new robotics ...  \n",
      "3      HENOSIS™ is a mysterious 2D Platform Puzzler w...  \n",
      "4      ABOUT THE GAME Play as a hacker who has arrang...  \n",
      "...                                                  ...  \n",
      "71711  Innovative Gameplay SUR5 brings a brand new, f...  \n",
      "71712  Core Features Real players only! All Guards an...  \n",
      "71713  Architecture Zeitgeist is a game created with ...  \n",
      "71714  Development progress: prologue map (finished),...  \n",
      "71715  'Hentai Ariel' is a unique puzzle in which the...  \n",
      "\n",
      "[71716 rows x 2 columns]\n"
     ]
    }
   ],
   "source": [
    "data = df.loc[:,['Name','About the game']]\n",
    "\n",
    "print(data)"
   ]
  },
  {
   "cell_type": "markdown",
   "metadata": {},
   "source": [
    "### 결측치 확인 및 제거"
   ]
  },
  {
   "cell_type": "code",
   "execution_count": 7,
   "metadata": {},
   "outputs": [
    {
     "name": "stdout",
     "output_type": "stream",
     "text": [
      "각 컬럼별 누락 삭제 전 데이터의 수 : \n",
      "Name                 1\n",
      "About the game    2436\n",
      "dtype: int64\n",
      "********************************************************************************\n",
      "각 컬럼별 누락 삭제 후 데이터의 수 : \n",
      "Name              0\n",
      "About the game    0\n",
      "dtype: int64\n"
     ]
    }
   ],
   "source": [
    "print(f'각 컬럼별 누락 삭제 전 데이터의 수 : \\n{data.isnull().sum()}')\n",
    "\n",
    "# 누락 데이터 존재.\n",
    "\n",
    "print('*'*80)\n",
    "\n",
    "cleaned_df = data.dropna()\n",
    "# 제거할 게 많을 땐 컬럼지정해서 dropna(subset)\n",
    "\n",
    "print(f'각 컬럼별 누락 삭제 후 데이터의 수 : \\n{cleaned_df.isnull().sum()}')\n"
   ]
  },
  {
   "cell_type": "markdown",
   "metadata": {},
   "source": [
    "### 결측치 제거 후 인덱스 재설정"
   ]
  },
  {
   "cell_type": "code",
   "execution_count": 8,
   "metadata": {},
   "outputs": [
    {
     "name": "stdout",
     "output_type": "stream",
     "text": [
      "                                         Name  \\\n",
      "0                            Galactic Bowling   \n",
      "1                                Train Bandit   \n",
      "2                                Jolt Project   \n",
      "3                                    Henosis™   \n",
      "4                       Two Weeks in Painland   \n",
      "...                                       ...   \n",
      "71711                                    SUR5   \n",
      "71712                           Prison Life 2   \n",
      "71713                  Architecture Zeitgeist   \n",
      "71714  Girl's Way to Survive 2: Bloody Museum   \n",
      "71715                            Hentai Ariel   \n",
      "\n",
      "                                          About the game  \n",
      "0      Galactic Bowling is an exaggerated and stylize...  \n",
      "1      THE LAW!! Looks to be a showdown atop a train....  \n",
      "2      Jolt Project: The army now has a new robotics ...  \n",
      "3      HENOSIS™ is a mysterious 2D Platform Puzzler w...  \n",
      "4      ABOUT THE GAME Play as a hacker who has arrang...  \n",
      "...                                                  ...  \n",
      "71711  Innovative Gameplay SUR5 brings a brand new, f...  \n",
      "71712  Core Features Real players only! All Guards an...  \n",
      "71713  Architecture Zeitgeist is a game created with ...  \n",
      "71714  Development progress: prologue map (finished),...  \n",
      "71715  'Hentai Ariel' is a unique puzzle in which the...  \n",
      "\n",
      "[69279 rows x 2 columns]\n",
      "********************************************************************************\n",
      "                                         Name  \\\n",
      "0                            Galactic Bowling   \n",
      "1                                Train Bandit   \n",
      "2                                Jolt Project   \n",
      "3                                    Henosis™   \n",
      "4                       Two Weeks in Painland   \n",
      "...                                       ...   \n",
      "69274                                    SUR5   \n",
      "69275                           Prison Life 2   \n",
      "69276                  Architecture Zeitgeist   \n",
      "69277  Girl's Way to Survive 2: Bloody Museum   \n",
      "69278                            Hentai Ariel   \n",
      "\n",
      "                                          About the game  \n",
      "0      Galactic Bowling is an exaggerated and stylize...  \n",
      "1      THE LAW!! Looks to be a showdown atop a train....  \n",
      "2      Jolt Project: The army now has a new robotics ...  \n",
      "3      HENOSIS™ is a mysterious 2D Platform Puzzler w...  \n",
      "4      ABOUT THE GAME Play as a hacker who has arrang...  \n",
      "...                                                  ...  \n",
      "69274  Innovative Gameplay SUR5 brings a brand new, f...  \n",
      "69275  Core Features Real players only! All Guards an...  \n",
      "69276  Architecture Zeitgeist is a game created with ...  \n",
      "69277  Development progress: prologue map (finished),...  \n",
      "69278  'Hentai Ariel' is a unique puzzle in which the...  \n",
      "\n",
      "[69279 rows x 2 columns]\n"
     ]
    }
   ],
   "source": [
    "\n",
    "print(cleaned_df)\n",
    "\n",
    "cleaned_df.reset_index(drop=True, inplace=True)\n",
    "\n",
    "print('*'*80)\n",
    "\n",
    "print(cleaned_df)"
   ]
  },
  {
   "cell_type": "markdown",
   "metadata": {},
   "source": [
    "### 데이터 간소화 및 컬럼이름 정리\n",
    "- 코사인 유사도 측정을 하는데에 있어서 문장들의 데이터가 너무 많으면\n",
    "- 메모리 부족으로 오류가 발생함\n",
    "- 컬럼의 띄어쓰기 된 공백을 _(underbar)로 처리"
   ]
  },
  {
   "cell_type": "code",
   "execution_count": 9,
   "metadata": {},
   "outputs": [
    {
     "name": "stdout",
     "output_type": "stream",
     "text": [
      "                                  Name  \\\n",
      "0                     Galactic Bowling   \n",
      "1                         Train Bandit   \n",
      "2                         Jolt Project   \n",
      "3                             Henosis™   \n",
      "4                Two Weeks in Painland   \n",
      "...                                ...   \n",
      "24995                   Hexen Hegemony   \n",
      "24996  Bo's Adventure: Merging Islands   \n",
      "24997                           5Rings   \n",
      "24998     Disciples III: Reincarnation   \n",
      "24999  Don't Be Afraid - The First Toy   \n",
      "\n",
      "                                          About the game  \n",
      "0      Galactic Bowling is an exaggerated and stylize...  \n",
      "1      THE LAW!! Looks to be a showdown atop a train....  \n",
      "2      Jolt Project: The army now has a new robotics ...  \n",
      "3      HENOSIS™ is a mysterious 2D Platform Puzzler w...  \n",
      "4      ABOUT THE GAME Play as a hacker who has arrang...  \n",
      "...                                                  ...  \n",
      "24995  The witches, who date back to the dark times o...  \n",
      "24996  Bo's Adventure: Merging Islands is the beginni...  \n",
      "24997  5Rings is a rotary jigsaw puzzle game. 1.Tap t...  \n",
      "24998  A true reincarnation of the legendary series! ...  \n",
      "24999  'The First Toy' is a standalone story that sha...  \n",
      "\n",
      "[25000 rows x 2 columns]\n"
     ]
    }
   ],
   "source": [
    "# 데이터 간소화\n",
    "summary_df = cleaned_df.iloc[0:25000, :]\n",
    "\n",
    "print(summary_df)"
   ]
  },
  {
   "cell_type": "code",
   "execution_count": 10,
   "metadata": {},
   "outputs": [
    {
     "name": "stdout",
     "output_type": "stream",
     "text": [
      "                                  Name  \\\n",
      "0                     Galactic Bowling   \n",
      "1                         Train Bandit   \n",
      "2                         Jolt Project   \n",
      "3                             Henosis™   \n",
      "4                Two Weeks in Painland   \n",
      "...                                ...   \n",
      "24995                   Hexen Hegemony   \n",
      "24996  Bo's Adventure: Merging Islands   \n",
      "24997                           5Rings   \n",
      "24998     Disciples III: Reincarnation   \n",
      "24999  Don't Be Afraid - The First Toy   \n",
      "\n",
      "                                          About_the_game  \n",
      "0      Galactic Bowling is an exaggerated and stylize...  \n",
      "1      THE LAW!! Looks to be a showdown atop a train....  \n",
      "2      Jolt Project: The army now has a new robotics ...  \n",
      "3      HENOSIS™ is a mysterious 2D Platform Puzzler w...  \n",
      "4      ABOUT THE GAME Play as a hacker who has arrang...  \n",
      "...                                                  ...  \n",
      "24995  The witches, who date back to the dark times o...  \n",
      "24996  Bo's Adventure: Merging Islands is the beginni...  \n",
      "24997  5Rings is a rotary jigsaw puzzle game. 1.Tap t...  \n",
      "24998  A true reincarnation of the legendary series! ...  \n",
      "24999  'The First Toy' is a standalone story that sha...  \n",
      "\n",
      "[25000 rows x 2 columns]\n"
     ]
    },
    {
     "name": "stderr",
     "output_type": "stream",
     "text": [
      "C:\\Users\\human\\AppData\\Local\\Temp\\ipykernel_10980\\2719693063.py:3: SettingWithCopyWarning: \n",
      "A value is trying to be set on a copy of a slice from a DataFrame\n",
      "\n",
      "See the caveats in the documentation: https://pandas.pydata.org/pandas-docs/stable/user_guide/indexing.html#returning-a-view-versus-a-copy\n",
      "  summary_df.rename(columns = {'About the game' : 'About_the_game'}, inplace = True)\n"
     ]
    }
   ],
   "source": [
    "# 컬럼 이름 정리\n",
    "\n",
    "summary_df.rename(columns = {'About the game' : 'About_the_game'}, inplace = True)\n",
    "\n",
    "print(summary_df)"
   ]
  },
  {
   "cell_type": "markdown",
   "metadata": {},
   "source": [
    "## 영어 문장 유사도 모델"
   ]
  },
  {
   "cell_type": "markdown",
   "metadata": {},
   "source": [
    "### Model Generation"
   ]
  },
  {
   "cell_type": "code",
   "execution_count": 11,
   "metadata": {},
   "outputs": [],
   "source": [
    "# 영어 문장 SentenceBERT 모델 생성\n",
    "model_name = 'sentence-transformers/all-MiniLM-L12-v2'\n",
    "en_model = SentenceTransformer(model_name)"
   ]
  },
  {
   "cell_type": "markdown",
   "metadata": {},
   "source": [
    "### Sentence Embedding Vector Generation\n",
    "- sentences 변수에 summary_df.About_the_game.values 게임설명을 series가 아닌 values값으로 저장.\n",
    "- 저장한 값을 영어 문장 모델을 이용해 문장 임베딩 벡터를 생성\n",
    "- "
   ]
  },
  {
   "cell_type": "code",
   "execution_count": 12,
   "metadata": {},
   "outputs": [
    {
     "name": "stdout",
     "output_type": "stream",
     "text": [
      "About_the_game 컬럼에서 추출한 값 확인 : \n",
      "['Galactic Bowling is an exaggerated and stylized bowling game with an intergalactic twist. Players will engage in fast-paced single and multi-player competition while being submerged in a unique new universe filled with over-the-top humor, wild characters, unique levels, and addictive game play. The title is aimed at players of all ages and skill sets. Through accessible and intuitive controls and game-play, Galactic Bowling allows you to jump right into the action. A single-player campaign and online play allow you to work your way up the ranks of the Galactic Bowling League! Whether you have hours to play or only a few minutes, Galactic Bowling is a fast paced and entertaining experience that will leave you wanting more! Full Single-player story campaign including 11 Characters and Environments. 2 Single-player play modes including Regular and Battle Modes. Head to Head Online Multiplayer play Modes. Super Powers, Special Balls, and Whammies. Unlockable Characters, Environments, and Minigames. Unlock all 30 Steam Achievements!'\n",
      " \"THE LAW!! Looks to be a showdown atop a train. This will be your last fight. Good luck, Train Bandit. WHAT IS THIS GAME? Train Bandit is a simple score attack game. The Law will attack you from both sides. Your weapon is your keyboard. You'll use those keys to kick the living shit out of the law. React quickly by attacking the correct direction. React...or you're dead. THE FEATURES Unlock new bandits Earn Achievements Become Steam's Most Wanted ? Battle elite officers Kick the law's ass\"\n",
      " \"Jolt Project: The army now has a new robotics project, jolt. It's up to you to control it and ensure the success of the missions! There are 9 stages of taking the breath away with the right difficulty and good gameplay. Plus an insane way of survival! Fire missiles at cars, tanks, helicopters and turrets! The fun is guaranteed! Use your mouse to aim and shoot and take out the enemies! In this game you will have to be aware of the various enemies who will do everything to destroy your charges and prevent the success of your mission! Cartoon-style graphics are optimized and fun and generate an excellent gaming environment!\"\n",
      " ...\n",
      " '5Rings is a rotary jigsaw puzzle game. 1.Tap the ring, let the ring rotate a certain angle to recover the target picture. 2.28 kinds of target pictures. 3.Support import any picture as target .'\n",
      " \"A true reincarnation of the legendary series! The Almighty has turned away from Nevendaar and its denizens. He is busy thinking about the fate of the world. Above Nevendaar, rent by perpetual wars, a new star flashed out. What will it bring with it? Who will claim its great power? Immerse in the struggle of four powerful races! 'Disciples III: Reincarnation' offers a revamped and enhanced version of 'Disciples III: Renaissance' plus the addon 'Resurrection' with all new features, a revised battle engine and all new graphics. Features: Unique visual style and magnificent gothic atmosphere with new graphics, new features and an enhanced battle system Dramatic and intriguing plot, written by Ekaterina Stadnikova, the author of the most successful Disciples-themed novel “Precious Blood” New combat and magic system. Dozens of new global spells Totems and flags in the inventory will change the balance on the battlefield Aquatic spaces with majestic ships and terrifying bosses Over 180 hours of gameplay. Four different factions, 27 large detailed missions, over 70 new side quests, significantly extending the main storyline Over 200 new objects on land and sea plus 13 new neutral units. Multiplayer in hot-seat mode and over the net. Engage neutral units and get them to fight on your side.\"\n",
      " \"'The First Toy' is a standalone story that shares a word with “Don’t Be Afraid” , a horror adventure game. Take on the role of a child, and try to survive in the terrifying property of the psychopathic kidnapper. Keep your cool to get out of the madman's clutches. Nothing is as it seems here, but don't be afraid...unless you already are? Your name is Jamie, you are young boy and this story will completely change your life. If you survive... You wake up in a terribly dark cellar, surrounded on all sides by terrifying noises and strange unknown items that you didn't even dream of in your nightmares. You are vulnerable and completely alone. Shreds of memories, without any logical connections, flash inside your head. Is someone detaining you? How did you get here? With every step you make, you will get further from your innocent past. The frightening truth awaits. The fate of an victim is sealed once it is in the hands of a sadistic psychopath. If you want to survive, grow up. Quickly. Take on the role of a child and see how he sees the world, Find the notes describing the story and find out who is responsible for your kidnapping, Survive a clash with a terrifying psycho, Solve the riddles that will get you out, Try to escape the psychopathic killer.\"]\n",
      "********************************************************************************\n",
      "생성된 문장 임베딩 행렬의 모양 : (25000, 384)\n",
      "********************************************************************************\n",
      "문장 1개의 임베딩 벡터의 모양 : (384,)\n"
     ]
    }
   ],
   "source": [
    "# 문장 임베딩 벡터 생성\n",
    "\n",
    "sentences = summary_df.About_the_game.values\n",
    "\n",
    "print(f'About_the_game 컬럼에서 추출한 값 확인 : \\n{sentences}')\n",
    "\n",
    "print('*'*80)\n",
    "\n",
    "# model_encoder() 함수 사용\n",
    "embeddings = en_model.encode(sentences)\n",
    "\n",
    "# 결과 확인하기\n",
    "print(f'생성된 문장 임베딩 행렬의 모양 : {embeddings.shape}')\n",
    "\n",
    "print('*'*80)\n",
    "\n",
    "print(f'문장 1개의 임베딩 벡터의 모양 : {embeddings[0].shape}')"
   ]
  },
  {
   "cell_type": "code",
   "execution_count": 13,
   "metadata": {},
   "outputs": [],
   "source": [
    "# Saving Sentences embedding vector \n",
    "\n",
    "np.save('D:\\Code\\스팀게임 추천 시스템/Sentences_Embedding_Vectors.npy', embeddings)"
   ]
  },
  {
   "cell_type": "markdown",
   "metadata": {},
   "source": [
    "##### \n",
    "- 문장 임베딩 벡터를 생성할 때 소요시간이 있어 재실행 했을 때 다시 반복하는 \n",
    "- 시간을 방지하기 위해 np.save('저장경로.npy', embeddings) 문장 임베딩 벡터를 npy 확장명으로 저장"
   ]
  },
  {
   "cell_type": "code",
   "execution_count": 14,
   "metadata": {},
   "outputs": [
    {
     "name": "stdout",
     "output_type": "stream",
     "text": [
      "문장 임베딩 행렬의 모양 : (25000, 384)\n"
     ]
    }
   ],
   "source": [
    "# 저장된 numpy 배열(임베딩 행렬) 불러오기\n",
    "\n",
    "file_path = 'D:\\Code\\스팀게임 추천 시스템/Sentences_Embedding_Vectors.npy'\n",
    "\n",
    "embeddings = np.load(file_path)\n",
    "\n",
    "print(f'문장 임베딩 행렬의 모양 : {embeddings.shape}')"
   ]
  },
  {
   "cell_type": "markdown",
   "metadata": {},
   "source": [
    "## 코사인 유사도 측정"
   ]
  },
  {
   "cell_type": "code",
   "execution_count": 17,
   "metadata": {},
   "outputs": [
    {
     "ename": "MemoryError",
     "evalue": "Unable to allocate 2.33 GiB for an array with shape (25000, 25000) and data type float32",
     "output_type": "error",
     "traceback": [
      "\u001b[1;31m---------------------------------------------------------------------------\u001b[0m",
      "\u001b[1;31mMemoryError\u001b[0m                               Traceback (most recent call last)",
      "Cell \u001b[1;32mIn[17], line 3\u001b[0m\n\u001b[0;32m      1\u001b[0m \u001b[38;5;66;03m# linear_kernel() 함수 --> 게임 설명 각각에 대해서 코사인 유사도 측정\u001b[39;00m\n\u001b[0;32m      2\u001b[0m \u001b[38;5;66;03m# 게임 설명 간의 코사인 유사도 계산 --> 유사도 행렬(자료형 : DataFrame) 생성\u001b[39;00m\n\u001b[1;32m----> 3\u001b[0m sim_matrix \u001b[38;5;241m=\u001b[39m linear_kernel(embeddings, embeddings)\n\u001b[0;32m      5\u001b[0m \u001b[38;5;28mprint\u001b[39m(\u001b[38;5;124mf\u001b[39m\u001b[38;5;124m'\u001b[39m\u001b[38;5;124m유사도 측정의 결과 : \u001b[39m\u001b[38;5;130;01m\\n\u001b[39;00m\u001b[38;5;132;01m{\u001b[39;00msim_matrix\u001b[38;5;132;01m}\u001b[39;00m\u001b[38;5;124m'\u001b[39m)\n\u001b[0;32m      7\u001b[0m \u001b[38;5;28mprint\u001b[39m(\u001b[38;5;124m'\u001b[39m\u001b[38;5;124m*\u001b[39m\u001b[38;5;124m'\u001b[39m\u001b[38;5;241m*\u001b[39m\u001b[38;5;241m80\u001b[39m)\n",
      "File \u001b[1;32mc:\\Users\\human\\anaconda3\\Lib\\site-packages\\sklearn\\utils\\_param_validation.py:211\u001b[0m, in \u001b[0;36mvalidate_params.<locals>.decorator.<locals>.wrapper\u001b[1;34m(*args, **kwargs)\u001b[0m\n\u001b[0;32m    205\u001b[0m \u001b[38;5;28;01mtry\u001b[39;00m:\n\u001b[0;32m    206\u001b[0m     \u001b[38;5;28;01mwith\u001b[39;00m config_context(\n\u001b[0;32m    207\u001b[0m         skip_parameter_validation\u001b[38;5;241m=\u001b[39m(\n\u001b[0;32m    208\u001b[0m             prefer_skip_nested_validation \u001b[38;5;129;01mor\u001b[39;00m global_skip_validation\n\u001b[0;32m    209\u001b[0m         )\n\u001b[0;32m    210\u001b[0m     ):\n\u001b[1;32m--> 211\u001b[0m         \u001b[38;5;28;01mreturn\u001b[39;00m func(\u001b[38;5;241m*\u001b[39margs, \u001b[38;5;241m*\u001b[39m\u001b[38;5;241m*\u001b[39mkwargs)\n\u001b[0;32m    212\u001b[0m \u001b[38;5;28;01mexcept\u001b[39;00m InvalidParameterError \u001b[38;5;28;01mas\u001b[39;00m e:\n\u001b[0;32m    213\u001b[0m     \u001b[38;5;66;03m# When the function is just a wrapper around an estimator, we allow\u001b[39;00m\n\u001b[0;32m    214\u001b[0m     \u001b[38;5;66;03m# the function to delegate validation to the estimator, but we replace\u001b[39;00m\n\u001b[0;32m    215\u001b[0m     \u001b[38;5;66;03m# the name of the estimator by the name of the function in the error\u001b[39;00m\n\u001b[0;32m    216\u001b[0m     \u001b[38;5;66;03m# message to avoid confusion.\u001b[39;00m\n\u001b[0;32m    217\u001b[0m     msg \u001b[38;5;241m=\u001b[39m re\u001b[38;5;241m.\u001b[39msub(\n\u001b[0;32m    218\u001b[0m         \u001b[38;5;124mr\u001b[39m\u001b[38;5;124m\"\u001b[39m\u001b[38;5;124mparameter of \u001b[39m\u001b[38;5;124m\\\u001b[39m\u001b[38;5;124mw+ must be\u001b[39m\u001b[38;5;124m\"\u001b[39m,\n\u001b[0;32m    219\u001b[0m         \u001b[38;5;124mf\u001b[39m\u001b[38;5;124m\"\u001b[39m\u001b[38;5;124mparameter of \u001b[39m\u001b[38;5;132;01m{\u001b[39;00mfunc\u001b[38;5;241m.\u001b[39m\u001b[38;5;18m__qualname__\u001b[39m\u001b[38;5;132;01m}\u001b[39;00m\u001b[38;5;124m must be\u001b[39m\u001b[38;5;124m\"\u001b[39m,\n\u001b[0;32m    220\u001b[0m         \u001b[38;5;28mstr\u001b[39m(e),\n\u001b[0;32m    221\u001b[0m     )\n",
      "File \u001b[1;32mc:\\Users\\human\\anaconda3\\Lib\\site-packages\\sklearn\\metrics\\pairwise.py:1329\u001b[0m, in \u001b[0;36mlinear_kernel\u001b[1;34m(X, Y, dense_output)\u001b[0m\n\u001b[0;32m   1304\u001b[0m \u001b[38;5;250m\u001b[39m\u001b[38;5;124;03m\"\"\"\u001b[39;00m\n\u001b[0;32m   1305\u001b[0m \u001b[38;5;124;03mCompute the linear kernel between X and Y.\u001b[39;00m\n\u001b[0;32m   1306\u001b[0m \n\u001b[1;32m   (...)\u001b[0m\n\u001b[0;32m   1326\u001b[0m \u001b[38;5;124;03m    The Gram matrix of the linear kernel, i.e. `X @ Y.T`.\u001b[39;00m\n\u001b[0;32m   1327\u001b[0m \u001b[38;5;124;03m\"\"\"\u001b[39;00m\n\u001b[0;32m   1328\u001b[0m X, Y \u001b[38;5;241m=\u001b[39m check_pairwise_arrays(X, Y)\n\u001b[1;32m-> 1329\u001b[0m \u001b[38;5;28;01mreturn\u001b[39;00m safe_sparse_dot(X, Y\u001b[38;5;241m.\u001b[39mT, dense_output\u001b[38;5;241m=\u001b[39mdense_output)\n",
      "File \u001b[1;32mc:\\Users\\human\\anaconda3\\Lib\\site-packages\\sklearn\\utils\\extmath.py:193\u001b[0m, in \u001b[0;36msafe_sparse_dot\u001b[1;34m(a, b, dense_output)\u001b[0m\n\u001b[0;32m    191\u001b[0m         ret \u001b[38;5;241m=\u001b[39m np\u001b[38;5;241m.\u001b[39mdot(a, b)\n\u001b[0;32m    192\u001b[0m \u001b[38;5;28;01melse\u001b[39;00m:\n\u001b[1;32m--> 193\u001b[0m     ret \u001b[38;5;241m=\u001b[39m a \u001b[38;5;241m@\u001b[39m b\n\u001b[0;32m    195\u001b[0m \u001b[38;5;28;01mif\u001b[39;00m (\n\u001b[0;32m    196\u001b[0m     sparse\u001b[38;5;241m.\u001b[39missparse(a)\n\u001b[0;32m    197\u001b[0m     \u001b[38;5;129;01mand\u001b[39;00m sparse\u001b[38;5;241m.\u001b[39missparse(b)\n\u001b[0;32m    198\u001b[0m     \u001b[38;5;129;01mand\u001b[39;00m dense_output\n\u001b[0;32m    199\u001b[0m     \u001b[38;5;129;01mand\u001b[39;00m \u001b[38;5;28mhasattr\u001b[39m(ret, \u001b[38;5;124m\"\u001b[39m\u001b[38;5;124mtoarray\u001b[39m\u001b[38;5;124m\"\u001b[39m)\n\u001b[0;32m    200\u001b[0m ):\n\u001b[0;32m    201\u001b[0m     \u001b[38;5;28;01mreturn\u001b[39;00m ret\u001b[38;5;241m.\u001b[39mtoarray()\n",
      "\u001b[1;31mMemoryError\u001b[0m: Unable to allocate 2.33 GiB for an array with shape (25000, 25000) and data type float32"
     ]
    }
   ],
   "source": [
    "# linear_kernel() 함수 --> 게임 설명 각각에 대해서 코사인 유사도 측정\n",
    "# 게임 설명 간의 코사인 유사도 계산 --> 유사도 행렬(자료형 : DataFrame) 생성\n",
    "sim_matrix = linear_kernel(embeddings, embeddings)\n",
    "\n",
    "print(f'유사도 측정의 결과 : \\n{sim_matrix}')\n",
    "\n",
    "print('*'*80)\n",
    "\n",
    "print(f'유사도 측정의 결과 값의 모양 : \\n{sim_matrix.shape}')\n",
    "\n",
    "print('*'*80)\n",
    "\n",
    "print(f'index[0]에 대한 유사도 측정의 결과 : \\n{sim_matrix[:, 0]}')"
   ]
  },
  {
   "cell_type": "code",
   "execution_count": null,
   "metadata": {},
   "outputs": [],
   "source": []
  }
 ],
 "metadata": {
  "kernelspec": {
   "display_name": "rollbackTarget",
   "language": "python",
   "name": "conda"
  },
  "language_info": {
   "codemirror_mode": {
    "name": "ipython",
    "version": 3
   },
   "file_extension": ".py",
   "mimetype": "text/x-python",
   "name": "python",
   "nbconvert_exporter": "python",
   "pygments_lexer": "ipython3",
   "version": "3.11.5"
  }
 },
 "nbformat": 4,
 "nbformat_minor": 2
}
